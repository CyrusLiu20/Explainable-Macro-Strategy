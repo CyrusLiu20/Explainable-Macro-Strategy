{
 "cells": [
  {
   "cell_type": "code",
   "execution_count": 1,
   "metadata": {},
   "outputs": [],
   "source": [
    "from procoder.functional import format_prompt\n",
    "from procoder.prompt import NamedBlock, NamedVariable, Collection\n",
    "import pandas as pd"
   ]
  },
  {
   "cell_type": "code",
   "execution_count": 2,
   "metadata": {},
   "outputs": [],
   "source": [
    "# Sample DataFrame with macroeconomic indicators\n",
    "data = {\n",
    "    \"Date\": [\"2024-08\", \"2024-09\", \"2024-10\", \"2024-11\", \"2024-12\", \"2025-01\"],\n",
    "    \"GDP\": [23000, 23150, 23200, 23350, 23500, 23650],\n",
    "    \"Inflation Rate\": [2.5, 2.6, 2.4, 2.3, 2.2, 2.1],\n",
    "    \"Unemployment Rate\": [4.1, 4.0, 3.9, 3.8, 3.7, 3.6],\n",
    "    \"Urban CPI\": [300.1, 302.2, 304.3, 306.5, 308.8, 311.0],\n",
    "    \"S&P500\": [4600, 4650, 4700, 4750, 4800, 4850],\n",
    "    \"USD/YEN\": [145, 144, 143, 142, 141, 140],\n",
    "    \"USD/EUR\": [1.1, 1.09, 1.08, 1.07, 1.06, 1.05],\n",
    "}\n",
    "\n",
    "df = pd.DataFrame(data)\n",
    "\n",
    "# Convert DataFrame to CSV-like string\n",
    "macroeconomic_dataframe_csv = df.to_csv(index=False)"
   ]
  },
  {
   "cell_type": "code",
   "execution_count": 3,
   "metadata": {},
   "outputs": [],
   "source": [
    "# Example DataFrame with recent macroeconomic news\n",
    "df_news = pd.DataFrame({\n",
    "    \"date\": [\"2024-02-05\", \"2024-02-04\"],\n",
    "    \"title\": [\"Fed Hints at Interest Rate Cut\", \"US Jobs Report Beats Expectations\"],\n",
    "    \"summary\": [\n",
    "        \"The Federal Reserve signaled a potential rate cut in the next quarter as inflation slows.\",\n",
    "        \"The US added 250,000 jobs in January, surpassing expectations and lowering unemployment.\"\n",
    "    ]\n",
    "})"
   ]
  },
  {
   "cell_type": "code",
   "execution_count": 4,
   "metadata": {},
   "outputs": [
    {
     "name": "stdout",
     "output_type": "stream",
     "text": [
      "1. Background\n",
      "\n",
      "        You are a quantitative macro trader developing an **Explainable LLM-based Trading Strategy**.  \n",
      "        Your goal is to predict the future trend of **[('US Treasury Bond',)]** (Ticker: **[('US10Y',)]**)  \n",
      "        by analyzing both **structured macroeconomic numerical data** and **unstructured financial news text data**.  \n",
      "\n",
      "        Your strategy must not only make accurate predictions but also provide clear explanations  \n",
      "        on how macroeconomic indicators and market sentiment contribute to the decision-making process.  \n",
      "        The model should highlight key factors driving its forecast, ensuring interpretability and transparency  \n",
      "        in the trading signals generated.\n",
      "    \n",
      "2. Macroeconomic Indicator Of Past Six Months\n",
      "\n",
      "        These macroeconomic indicators include:\n",
      "        - **US GDP** (Billion USD): Measures the total economic output of the United States.\n",
      "        - **US Inflation Rate** (%): Represents the year-over-year percentage change in consumer prices.\n",
      "        - **US Unemployment Rate** (%): The percentage of the labor force that is unemployed.\n",
      "        - **US Urban CPI** (Index, 1982-84=100): Tracks changes in the cost of goods and services in urban areas.\n",
      "        - **S&P500 Index** (Index Points): Measures the performance of 500 large publicly traded companies in the US.\n",
      "        - **USD/YEN Exchange Rate** (JPY per USD): The value of one US dollar in Japanese yen.\n",
      "        - **USD/EUR Exchange Rate** (EUR per USD): The value of one US dollar in euros.\n",
      "    \n",
      "3. Macroeconomic Data\n",
      "Macroeconomic Indicators: Date,GDP,Inflation Rate,Unemployment Rate,Urban CPI,S&P500,USD/YEN,USD/EUR\n",
      "2024-08,23000,2.5,4.1,300.1,4600,145,1.1\n",
      "2024-09,23150,2.6,4.0,302.2,4650,144,1.09\n",
      "2024-10,23200,2.4,3.9,304.3,4700,143,1.08\n",
      "2024-11,23350,2.3,3.8,306.5,4750,142,1.07\n",
      "2024-12,23500,2.2,3.7,308.8,4800,141,1.06\n",
      "2025-01,23650,2.1,3.6,311.0,4850,140,1.05\n",
      "\n",
      "4. Recent Macroeconomic News\n",
      "\n",
      "        Below is a summary of recent macroeconomic news articles and key events  \n",
      "        that may impact financial markets.  \n",
      "\n",
      "        - **Date**: 2024-02-05  \n",
      "  **Title**: Fed Hints at Interest Rate Cut  \n",
      "  **Summary**: The Federal Reserve signaled a potential rate cut in the next quarter as inflation slows.\n",
      "- **Date**: 2024-02-04  \n",
      "  **Title**: US Jobs Report Beats Expectations  \n",
      "  **Summary**: The US added 250,000 jobs in January, surpassing expectations and lowering unemployment.\n",
      "    \n",
      "5. Decision (Forecast Trend)\n",
      "\n",
      "        Based on the provided macroeconomic indicators and recent economic news, \n",
      "        predict the overall trend of the next half-year price movement for [('US Treasury Bond',)].\n",
      "\n",
      "        Only output one of the following options:\n",
      "        - Strongly Bullish\n",
      "        - Bullish\n",
      "        - Slightly Bullish\n",
      "        - Flat\n",
      "        - Fluctuating\n",
      "        - Slightly Bearish\n",
      "        - Bearish\n",
      "        - Strongly Bearish\n",
      "\n",
      "        Provide an explanation for your prediction.\n",
      "    \n",
      "6. Expected Output Format\n",
      "\n",
      "        ```\n",
      "        Prediction: [Bullish]\n",
      "        Explanation: The US GDP growth remains strong, inflation is declining, \n",
      "        and the Federal Reserve has signaled potential interest rate cuts. \n",
      "        This is likely to create a favorable market environment.\n",
      "        ```\n",
      "    \n"
     ]
    }
   ],
   "source": [
    "from InstructionPrompt import *\n",
    "\n",
    "# Format and print the final structured prompt\n",
    "asset_name = \"US Treasury Bond\",\n",
    "ticker_name = \"US10Y\",\n",
    "news_entries = format_news_entries(df_news)\n",
    "\n",
    "input = {\"asset_name\": asset_name, \n",
    "         \"ticker_name\": ticker_name,\n",
    "         \"news_entries\": news_entries,\n",
    "         \"macroeconomic_dataframe_csv\": macroeconomic_dataframe_csv\n",
    "        }\n",
    "\n",
    "\n",
    "\n",
    "formatted_prompt = format_prompt(LLMSTRATEGY_PROMPT, input)\n",
    "\n",
    "print(formatted_prompt)"
   ]
  }
 ],
 "metadata": {
  "kernelspec": {
   "display_name": "LLMStrategy",
   "language": "python",
   "name": "python3"
  },
  "language_info": {
   "codemirror_mode": {
    "name": "ipython",
    "version": 3
   },
   "file_extension": ".py",
   "mimetype": "text/x-python",
   "name": "python",
   "nbconvert_exporter": "python",
   "pygments_lexer": "ipython3",
   "version": "3.9.21"
  }
 },
 "nbformat": 4,
 "nbformat_minor": 2
}
