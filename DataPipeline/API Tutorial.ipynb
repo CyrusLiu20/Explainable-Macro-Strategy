{
 "cells": [
  {
   "cell_type": "markdown",
   "metadata": {},
   "source": [
    "# Alpha Vantage Sample Use Case"
   ]
  },
  {
   "cell_type": "code",
   "execution_count": null,
   "metadata": {},
   "outputs": [],
   "source": [
    "from alpha_vantage.alphaintelligence import AlphaIntelligence\n",
    "import pandas as pd\n",
    "import os\n",
    "\n",
    "# Set your API key (replace with your actual key)\n",
    "API_KEY = ''\n",
    "\n",
    "# Initialize the AlphaIntelligence class\n",
    "ai = AlphaIntelligence(key=API_KEY, output_format=\"pandas\")\n",
    "\n",
    "# Fetch news sentiment for IBM in the technology sector (optional argument ticker)\n",
    "news_data = ai.get_news_sentiment(topics=\"economy_fiscal\",\n",
    "                                  time_from='20220410T0130', \n",
    "                                  time_to='20240410T0130', # YYYYMMDDTHHMM\n",
    "                                  sort='LATEST', limit=50)\n",
    "\n",
    "print(news_data[0])"
   ]
  },
  {
   "cell_type": "markdown",
   "metadata": {},
   "source": [
    "# US Census Bureau Sample Use Case"
   ]
  },
  {
   "cell_type": "code",
   "execution_count": null,
   "metadata": {},
   "outputs": [
    {
     "name": "stdout",
     "output_type": "stream",
     "text": [
      "Data saved successfully!\n"
     ]
    }
   ],
   "source": [
    "import requests\n",
    "import pandas as pd\n",
    "\n",
    "# Define API Endpoint\n",
    "url = \"https://api.census.gov/data/timeseries/eits/marts\"\n",
    "\n",
    "# Define API Parameters\n",
    "params = {\n",
    "    \"get\": \"data_type_code,seasonally_adj,category_code,cell_value,error_data,time_slot_name\",\n",
    "    \"for\": \"us:*\",  \n",
    "    \"time\": f'from {2015} to {2020}',\n",
    "    \"key\": \"\" # Add your actual key\n",
    "}\n",
    "\n",
    "# Make the API Request\n",
    "response = requests.get(url, params=params)\n",
    "\n",
    "# Check for Successful Response\n",
    "if response.status_code == 200:\n",
    "    data = response.json()\n",
    "    \n",
    "    # Convert to DataFrame\n",
    "    df = pd.DataFrame(data[1:], columns=data[0])\n",
    "    \n",
    "    # Save to CSV\n",
    "    df.to_csv(\"advance_retail_sales_retail_trade_and_food_services_monthly.csv\", index=False)\n",
    "    \n",
    "    print(\"Data saved successfully!\")\n",
    "else:\n",
    "    print(f\"Error: {response.status_code} - {response.text}\")\n"
   ]
  },
  {
   "cell_type": "markdown",
   "metadata": {},
   "source": [
    "# FRED API Sample Use Case"
   ]
  },
  {
   "cell_type": "code",
   "execution_count": null,
   "metadata": {},
   "outputs": [
    {
     "name": "stdout",
     "output_type": "stream",
     "text": [
      "(2499, 1) <class 'pandas.core.frame.DataFrame'>\n"
     ]
    }
   ],
   "source": [
    "import os\n",
    "import pandas as pd\n",
    "from fredapi import Fred\n",
    "\n",
    "fred = Fred(api_key='')\n",
    "\n",
    "df = fred.get_series('SP500', observation_start='2005-09-02', observation_end='2024-09-05')\n",
    "\n",
    "# Convert series to DataFrame\n",
    "df = df.to_frame(name=\"SP500\")  # Convert to DataFrame and set column name\n",
    "df.index.name = \"Date\"  # Set index name\n",
    "\n",
    "# Save to CSV\n",
    "file_name = \"test.csv\"\n",
    "df.to_csv(file_name)\n",
    "\n",
    "print(df.shape, type(df))"
   ]
  }
 ],
 "metadata": {
  "kernelspec": {
   "display_name": "LLMStrategy",
   "language": "python",
   "name": "python3"
  },
  "language_info": {
   "codemirror_mode": {
    "name": "ipython",
    "version": 3
   },
   "file_extension": ".py",
   "mimetype": "text/x-python",
   "name": "python",
   "nbconvert_exporter": "python",
   "pygments_lexer": "ipython3",
   "version": "3.9.21"
  }
 },
 "nbformat": 4,
 "nbformat_minor": 2
}
